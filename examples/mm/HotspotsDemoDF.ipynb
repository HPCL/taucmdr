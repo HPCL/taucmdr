{
 "cells": [
  {
   "cell_type": "code",
   "execution_count": 1,
   "metadata": {},
   "outputs": [],
   "source": [
    "# Have to patch sys.path until we have tighter taucmdr/anaconda integration.\n",
    "# Need to move towards taucmdr as a conda package.\n",
    "import os\n",
    "import sys\n",
    "try:\n",
    "    import taucmdr\n",
    "except ImportError:\n",
    "    sys.path.insert(0, os.path.join(os.environ['__TAUCMDR_HOME__'], 'packages'))\n",
    "finally:\n",
    "    from taucmdr.model.project import Project"
   ]
  },
  {
   "cell_type": "code",
   "execution_count": 2,
   "metadata": {},
   "outputs": [
    {
     "name": "stdout",
     "output_type": "stream",
     "text": [
      "Using matplotlib backend: Qt5Agg\n",
      "Populating the interactive namespace from numpy and matplotlib\n"
     ]
    }
   ],
   "source": [
    "%pylab\n",
    "import matplotlib\n",
    "import matplotlib.pyplot as plt\n",
    "matplotlib.style.use('ggplot')\n",
    "import pandas as pd\n",
    "import math\n",
    "import numpy as np\n",
    "import operator"
   ]
  },
  {
   "cell_type": "code",
   "execution_count": 3,
   "metadata": {},
   "outputs": [],
   "source": [
    "num_trials = Project.selected().experiment().num_trials\n",
    "trials = Project.selected().experiment().trials(xrange(0, num_trials))\n",
    "trial_data = {}\n",
    "for i in xrange(0, num_trials):\n",
    "    trial_data[i] = trials[i].get_data()"
   ]
  },
  {
   "cell_type": "code",
   "execution_count": 4,
   "metadata": {},
   "outputs": [],
   "source": [
    "#trial0_intervals = trial0_data[0][0][0].interval_data()\n",
    "#trial0_intervals.plot(kind='bar')\n",
    "#plt.show()"
   ]
  },
  {
   "cell_type": "code",
   "execution_count": 5,
   "metadata": {},
   "outputs": [],
   "source": [
    "trial_intervals = []\n",
    "for trial in xrange(0, num_trials):\n",
    "    for i in xrange(0, len(trial_data[trial])):\n",
    "        for j in xrange(0, len(trial_data[trial][i])):\n",
    "            for k in xrange(0, len(trial_data[trial][i][j])):\n",
    "                trial_intervals.append(trial_data[trial][i][j][k].interval_data())\n",
    "                \n",
    "expr_intervals = pd.concat(trial_intervals)"
   ]
  },
  {
   "cell_type": "code",
   "execution_count": 6,
   "metadata": {},
   "outputs": [
    {
     "name": "stdout",
     "output_type": "stream",
     "text": [
      "Hotspot Analysis Summary\n",
      "================================================================================\n",
      "The code regions with largest exclusive time are: \n",
      "1: .TAU application => int main(int, char **) C [{matmult.c} {209,1}-{299,1}]   => double do_work(void) C [{matmult.c} {132,1}-{168,1}]   => void compute(double **, double **, double **, int, int, int) C [{matmult.c} {90,1}-{109,1}]   (2293036.0)\n",
      "2: void compute(double **, double **, double **, int, int, int) C [{matmult.c} {90,1}-{109,1}]   (2293036.0)\n",
      "3: .TAU application => int main(int, char **) C [{matmult.c} {209,1}-{299,1}]   => double do_work(void) C [{matmult.c} {132,1}-{168,1}]   => void compute_interchange(double **, double **, double **, int, int, int) C [{matmult.c} {111,1}-{130,1}]   (2108681.0)\n",
      "4: void compute_interchange(double **, double **, double **, int, int, int) C [{matmult.c} {111,1}-{130,1}]   (2108681.0)\n",
      "5: .TAU application => int main(int, char **) C [{matmult.c} {209,1}-{299,1}]   => double do_work(void) C [{matmult.c} {132,1}-{168,1}]   => void compute(double **, double **, double **, int, int, int) C [{matmult.c} {90,1}-{109,1}]   => double multiply(double, double) C [{matmult.c} {59,1}-{61,1}]   (43008.0)\n",
      "Hotspot Analysis Summary\n",
      "================================================================================\n",
      "The code regions with largest standard deviation are: \n",
      "1: .TAU application => int main(int, char **) C [{matmult.c} {209,1}-{299,1}]   => MPI_Finalize()   (81097.1102598)\n",
      "2: MPI_Finalize()   (81097.1102598)\n",
      "3: void compute(double **, double **, double **, int, int, int) C [{matmult.c} {90,1}-{109,1}]   (48237.2614059)\n",
      "4: .TAU application => int main(int, char **) C [{matmult.c} {209,1}-{299,1}]   => double do_work(void) C [{matmult.c} {132,1}-{168,1}]   => void compute(double **, double **, double **, int, int, int) C [{matmult.c} {90,1}-{109,1}]   (48237.2614059)\n",
      "5: .TAU application => int main(int, char **) C [{matmult.c} {209,1}-{299,1}]   => double do_work(void) C [{matmult.c} {132,1}-{168,1}]   => void compute_interchange(double **, double **, double **, int, int, int) C [{matmult.c} {111,1}-{130,1}]   (37798.614237)\n",
      "Hotspot Analysis Summary\n",
      "================================================================================\n",
      "The code regions with largest correlation to total runtime are: \n",
      "1: void compute(double **, double **, double **, int, int, int) C [{matmult.c} {90,1}-{109,1}]   (0.962826272756)\n",
      "2: .TAU application => int main(int, char **) C [{matmult.c} {209,1}-{299,1}]   => double do_work(void) C [{matmult.c} {132,1}-{168,1}]   => void compute(double **, double **, double **, int, int, int) C [{matmult.c} {90,1}-{109,1}]   (0.962826272756)\n",
      "3: void initialize(double **, int, int) C [{matmult_initialize.c} {3,1}-{16,1}]   (0.858828873596)\n",
      "4: .TAU application => int main(int, char **) C [{matmult.c} {209,1}-{299,1}]   => double do_work(void) C [{matmult.c} {132,1}-{168,1}]   => void initialize(double **, int, int) C [{matmult_initialize.c} {3,1}-{16,1}]   (0.858828873596)\n",
      "5: .TAU application => int main(int, char **) C [{matmult.c} {209,1}-{299,1}]   => double do_work(void) C [{matmult.c} {132,1}-{168,1}]   => void compute_interchange(double **, double **, double **, int, int, int) C [{matmult.c} {111,1}-{130,1}]   (0.85240994831)\n"
     ]
    }
   ],
   "source": [
    "# levels: 0=trial, 1=node, 2=context, 3=thread, 4=region name\n",
    "\n",
    "from taucmdr.error import InternalError\n",
    "\n",
    "def largest_stddev(dfs,n):\n",
    "    return dfs['Exclusive'].groupby(level=3).std(ddof=0).dropna().sort_values(ascending=False, axis=0)[:n]\n",
    "\n",
    "def largest_correlation(dfs,n):\n",
    "    grouped = dfs.groupby(level=4)\n",
    "    return grouped['Exclusive'].agg(lambda x: np.corrcoef(x, grouped['Inclusive'].get_group('.TAU application'))[0,1]).sort_values(ascending=False, axis=0)[:n]\n",
    "\n",
    "def largest_exclusive(df,n):\n",
    "    rows = df.nlargest(n, 'Exclusive')\n",
    "    return rows['Exclusive']\n",
    "\n",
    "def hotspots(dfs, n, flag):\n",
    "    if flag == 0:\n",
    "        largest = largest_exclusive(dfs,n)\n",
    "    elif flag == 1:\n",
    "        largest = largest_stddev(dfs,n)\n",
    "    elif flag == 2:\n",
    "        largest = largest_correlation(dfs,n)\n",
    "    else:\n",
    "        print 'Invalid flag'\n",
    "    y = ['exclusive time', 'standard deviation', 'correlation to total runtime']\n",
    "    print 'Hotspot Analysis Summary'\n",
    "    print '='*80\n",
    "    print 'The code regions with largest %s are: ' %y[flag]\n",
    "    for i in xrange(0,n):\n",
    "        print '%s: %s (%s)' %(i+1, largest.index[i], largest[i])\n",
    "    \n",
    "\n",
    "hotspots(expr_intervals.loc[(0,0,0,0)], 5, 0)\n",
    "hotspots(expr_intervals.loc[7], 5, 1)\n",
    "hotspots(expr_intervals, 5, 2)"
   ]
  },
  {
   "cell_type": "code",
   "execution_count": null,
   "metadata": {},
   "outputs": [],
   "source": []
  }
 ],
 "metadata": {
  "kernelspec": {
   "display_name": "Python 2",
   "language": "python",
   "name": "python2"
  },
  "language_info": {
   "codemirror_mode": {
    "name": "ipython",
    "version": 2
   },
   "file_extension": ".py",
   "mimetype": "text/x-python",
   "name": "python",
   "nbconvert_exporter": "python",
   "pygments_lexer": "ipython2",
   "version": "2.7.13"
  }
 },
 "nbformat": 4,
 "nbformat_minor": 2
}
