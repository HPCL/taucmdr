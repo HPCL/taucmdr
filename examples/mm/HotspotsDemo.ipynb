{
 "cells": [
  {
   "cell_type": "code",
   "execution_count": 1,
   "metadata": {},
   "outputs": [],
   "source": [
    "# Have to patch sys.path until we have tighter taucmdr/anaconda integration.\n",
    "# Need to move towards taucmdr as a conda package.\n",
    "import os\n",
    "import sys\n",
    "try:\n",
    "    import taucmdr\n",
    "except ImportError:\n",
    "    sys.path.insert(0, os.path.join(os.environ['__TAUCMDR_HOME__'], 'packages'))\n",
    "finally:\n",
    "    from taucmdr.model.project import Project"
   ]
  },
  {
   "cell_type": "code",
   "execution_count": 2,
   "metadata": {},
   "outputs": [
    {
     "name": "stdout",
     "output_type": "stream",
     "text": [
      "Using matplotlib backend: Qt5Agg\n",
      "Populating the interactive namespace from numpy and matplotlib\n"
     ]
    }
   ],
   "source": [
    "%pylab\n",
    "import matplotlib\n",
    "import matplotlib.pyplot as plt\n",
    "matplotlib.style.use('ggplot')\n",
    "import pandas as pd\n",
    "import math\n",
    "import numpy as np\n",
    "import operator"
   ]
  },
  {
   "cell_type": "code",
   "execution_count": 3,
   "metadata": {},
   "outputs": [],
   "source": [
    "trials = Project.selected().experiment().trials()\n",
    "trial0_data = trials[0].get_data()"
   ]
  },
  {
   "cell_type": "code",
   "execution_count": 4,
   "metadata": {},
   "outputs": [],
   "source": [
    "trial0_intervals = trial0_data[0][0][0].interval_data()\n",
    "trial0_intervals.plot(kind='bar')\n",
    "plt.show()"
   ]
  },
  {
   "cell_type": "code",
   "execution_count": 5,
   "metadata": {},
   "outputs": [],
   "source": [
    "trial0_intervals = {}\n",
    "for i in xrange(0, len(trial0_data)):\n",
    "    trial0_intervals[i] = {}\n",
    "    for j in xrange(0, len(trial0_data[i])):\n",
    "        trial0_intervals[i][j] = {}\n",
    "        for k in xrange(0, len(trial0_data[i][j])):\n",
    "            trial0_intervals[i][j][k] = {}\n",
    "            trial0_intervals[i][j][k] = trial0_data[i][j][k].interval_data()"
   ]
  },
  {
   "cell_type": "code",
   "execution_count": 6,
   "metadata": {},
   "outputs": [
    {
     "name": "stdout",
     "output_type": "stream",
     "text": [
      "Hotspot Analysis Summary\n",
      "================================================================================\n",
      "The code regions with largest exclusive time are: \n",
      "1: void compute(double **, double **, double **, int, int, int) C [{matmult.c} {90,1}-{109,1}]  \n",
      "2: .TAU application => int main(int, char **) C [{matmult.c} {209,1}-{299,1}]   => double do_work(void) C [{matmult.c} {132,1}-{168,1}]   => void compute(double **, double **, double **, int, int, int) C [{matmult.c} {90,1}-{109,1}]  \n",
      "3: .TAU application => int main(int, char **) C [{matmult.c} {209,1}-{299,1}]   => double do_work(void) C [{matmult.c} {132,1}-{168,1}]   => void compute_interchange(double **, double **, double **, int, int, int) C [{matmult.c} {111,1}-{130,1}]  \n",
      "4: void compute_interchange(double **, double **, double **, int, int, int) C [{matmult.c} {111,1}-{130,1}]  \n",
      "5: MPI_Finalize()  \n",
      "Hotspot Analysis Summary\n",
      "================================================================================\n",
      "The code regions with largest standard deviation are: \n",
      "1: .TAU application => int main(int, char **) C [{matmult.c} {209,1}-{299,1}]   => MPI_Finalize()  \n",
      "2: MPI_Finalize()  \n",
      "3: void compute(double **, double **, double **, int, int, int) C [{matmult.c} {90,1}-{109,1}]  \n",
      "4: .TAU application => int main(int, char **) C [{matmult.c} {209,1}-{299,1}]   => double do_work(void) C [{matmult.c} {132,1}-{168,1}]   => void compute(double **, double **, double **, int, int, int) C [{matmult.c} {90,1}-{109,1}]  \n",
      "5: .TAU application => int main(int, char **) C [{matmult.c} {209,1}-{299,1}]   => double do_work(void) C [{matmult.c} {132,1}-{168,1}]   => void compute_interchange(double **, double **, double **, int, int, int) C [{matmult.c} {111,1}-{130,1}]  \n"
     ]
    }
   ],
   "source": [
    "def get_regions(dfs):\n",
    "    regions = set()\n",
    "    for rank in dfs:\n",
    "        for context in dfs[rank]:\n",
    "            for thread in dfs[rank][context]:\n",
    "                df = dfs[rank][context][thread]\n",
    "                regions.update(df.index.tolist())\n",
    "    return regions\n",
    "\n",
    "def largest_stddev(dfs,n):\n",
    "    # Use Welford's Method (see https://stackoverflow.com/questions/895929/how-do-i-determine-the-standard-deviation-stddev-of-a-set-of-values)\n",
    "    regions = get_regions(dfs)\n",
    "    stddevs = {}\n",
    "    for region in regions:\n",
    "        mean = 0.0\n",
    "        stddev = 0.0\n",
    "        k = 1\n",
    "        for rank in dfs:\n",
    "            for context in dfs[rank]:\n",
    "                for thread in dfs[rank][context]:\n",
    "                    tmpM = mean\n",
    "                    exclusive_time = dfs[rank][context][thread].at[region,'Exclusive']\n",
    "                    mean += (exclusive_time - tmpM) / k\n",
    "                    stddev += (exclusive_time - tmpM) * (exclusive_time - mean)\n",
    "                    k += 1\n",
    "\n",
    "        stddev = math.sqrt(stddev/(k-1))\n",
    "        stddevs[region] = stddev\n",
    "        \n",
    "    largest = [x[0] for x in sorted(stddevs.iteritems(), key=operator.itemgetter(1), reverse=True)[:n]]\n",
    "    return largest\n",
    "\n",
    "\n",
    "def largest_correlation(dfs,n):\n",
    "    pass\n",
    "\n",
    "def largest_exclusive(df,n):\n",
    "    rows = df.nlargest(n, 'Exclusive')\n",
    "    #return set(rows.index)\n",
    "    return list(rows.index)\n",
    "\n",
    "def hotspots(dfs, n, flag):\n",
    "    if flag == 0:\n",
    "        largest = largest_exclusive(dfs[0][0][0],n)\n",
    "    elif flag == 1:\n",
    "        largest = largest_stddev(dfs,n)\n",
    "    elif flag == 2:\n",
    "        largest = largest_correlation(dfs,n)\n",
    "    else:\n",
    "        print 'Invalid flag'\n",
    "    y = ['exclusive time', 'standard deviation', 'correlation to total runtime']\n",
    "    print 'Hotspot Analysis Summary'\n",
    "    print '='*80\n",
    "    print 'The code regions with largest %s are: ' %y[flag]\n",
    "    for i in xrange(0,n):\n",
    "        print '%s: %s' %(i+1, largest[i])\n",
    "\n",
    "hotspots(trial0_intervals, 5, 0)\n",
    "hotspots(trial0_intervals, 5, 1)"
   ]
  },
  {
   "cell_type": "code",
   "execution_count": null,
   "metadata": {},
   "outputs": [],
   "source": []
  }
 ],
 "metadata": {
  "kernelspec": {
   "display_name": "Python 2",
   "language": "python",
   "name": "python2"
  },
  "language_info": {
   "codemirror_mode": {
    "name": "ipython",
    "version": 2
   },
   "file_extension": ".py",
   "mimetype": "text/x-python",
   "name": "python",
   "nbconvert_exporter": "python",
   "pygments_lexer": "ipython2",
   "version": "2.7.13"
  }
 },
 "nbformat": 4,
 "nbformat_minor": 2
}
