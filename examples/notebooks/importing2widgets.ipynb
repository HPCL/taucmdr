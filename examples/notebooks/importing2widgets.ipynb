{
 "cells": [
  {
   "cell_type": "markdown",
   "metadata": {},
   "source": [
    "We first want to set env variables as is done in the tau bash script. First we determine where the tau package lives since it is usually in peoples path."
   ]
  },
  {
   "cell_type": "code",
   "execution_count": 76,
   "metadata": {
    "collapsed": true
   },
   "outputs": [],
   "source": [
    "import os,sys,subprocess"
   ]
  },
  {
   "cell_type": "code",
   "execution_count": 77,
   "metadata": {
    "collapsed": false
   },
   "outputs": [
    {
     "name": "stdout",
     "output_type": "stream",
     "text": [
      "/Users/srinathv/Repos/taucmdr/bin/tau\n",
      "/Users/srinathv/Repos/taucmdr\n",
      "/Users/srinathv/Repos/taucmdr/packages\n"
     ]
    }
   ],
   "source": [
    "tauLoc=subprocess.Popen([\"bash\",\"-c\",\"which tau\"],\n",
    "                       shell=False,stdout=subprocess.PIPE).communicate()[0].replace(\"\\n\",\"\")\n",
    "tauHome=tauLoc.replace(\"/bin/tau\",\"\")\n",
    "tauPackages=tauHome+\"/packages\"\n",
    "print tauLoc\n",
    "print tauHome\n",
    "print tauPackages"
   ]
  },
  {
   "cell_type": "markdown",
   "metadata": {},
   "source": [
    "Now we export enviroment variables of which the tau python code uses."
   ]
  },
  {
   "cell_type": "code",
   "execution_count": 78,
   "metadata": {
    "collapsed": false
   },
   "outputs": [],
   "source": [
    "os.environ[\"__TAU_HOME__\"]=tauHome\n",
    "os.environ[\"__TAU_SCRIPT__\"]=tauLoc"
   ]
  },
  {
   "cell_type": "markdown",
   "metadata": {},
   "source": [
    "Now we need to prepend that path to import all the modules."
   ]
  },
  {
   "cell_type": "code",
   "execution_count": 79,
   "metadata": {
    "collapsed": false
   },
   "outputs": [
    {
     "data": {
      "text/plain": [
       "['/Users/srinathv/Repos/taucmdr/packages',\n",
       " '/Users/srinathv/Repos/taucmdr/packages',\n",
       " '/Users/srinathv/Repos/taucmdr/packages',\n",
       " '',\n",
       " '/usr/local/lib/python',\n",
       " '/Users/srinathv/software/lib/python2.7/site-packages',\n",
       " '/Users/srinathv/Repos/taucmdr/examples/notebooks',\n",
       " '/usr/local/Cellar/python/2.7.10_2/Frameworks/Python.framework/Versions/2.7/lib/python27.zip',\n",
       " '/usr/local/Cellar/python/2.7.10_2/Frameworks/Python.framework/Versions/2.7/lib/python2.7',\n",
       " '/usr/local/Cellar/python/2.7.10_2/Frameworks/Python.framework/Versions/2.7/lib/python2.7/plat-darwin',\n",
       " '/usr/local/Cellar/python/2.7.10_2/Frameworks/Python.framework/Versions/2.7/lib/python2.7/plat-mac',\n",
       " '/usr/local/Cellar/python/2.7.10_2/Frameworks/Python.framework/Versions/2.7/lib/python2.7/plat-mac/lib-scriptpackages',\n",
       " '/usr/local/Cellar/python/2.7.10_2/Frameworks/Python.framework/Versions/2.7/lib/python2.7/lib-tk',\n",
       " '/usr/local/Cellar/python/2.7.10_2/Frameworks/Python.framework/Versions/2.7/lib/python2.7/lib-old',\n",
       " '/usr/local/Cellar/python/2.7.10_2/Frameworks/Python.framework/Versions/2.7/lib/python2.7/lib-dynload',\n",
       " '/usr/local/lib/python2.7/site-packages',\n",
       " '/usr/local/Cellar/matplotlib/1.4.3/libexec/lib/python2.7/site-packages',\n",
       " '/Library/Python/2.7/site-packages',\n",
       " '/usr/local/lib/python2.7/site-packages/IPython/extensions',\n",
       " '/Users/srinathv/.ipython']"
      ]
     },
     "execution_count": 79,
     "metadata": {},
     "output_type": "execute_result"
    }
   ],
   "source": [
    "sys.path.insert(0,tauPackages)\n",
    "sys.path"
   ]
  },
  {
   "cell_type": "code",
   "execution_count": 81,
   "metadata": {
    "collapsed": false
   },
   "outputs": [
    {
     "name": "stderr",
     "output_type": "stream",
     "text": [
      "DEBUG:tau:\n",
      "#########################################################################################################################\n",
      "TAU COMMANDER LOGGING INITIALIZED\n",
      "\n",
      "Timestamp         : 2015-08-21 16:15:27.087083\n",
      "Hostname          : Paratools-SV-iMac.local\n",
      "Platform          : Darwin-14.5.0-x86_64-i386-64bit\n",
      "Python Version    : 2.7.10\n",
      "Working Directory : /Users/srinathv/Repos/taucmdr/examples/notebooks\n",
      "Terminal Size     : 127x61\n",
      "#########################################################################################################################\n",
      "\n",
      "DEBUG:tau.storage:Opened '/Users/srinathv/.tau/local.json' for read/write\n",
      "DEBUG:tau.storage:Opened '/Users/srinathv/Repos/taucmdr/.system/local.json' for read/write\n"
     ]
    }
   ],
   "source": [
    "import tau\n",
    "import tau.model.target as target"
   ]
  },
  {
   "cell_type": "code",
   "execution_count": 93,
   "metadata": {
    "collapsed": false
   },
   "outputs": [
    {
     "data": {
      "text/plain": [
       "[{'argparse': {'flags': ('--mpi-fc',),\n",
       "   'group': 'Message Passing Interface (MPI)',\n",
       "   'metavar': '<command>'},\n",
       "  'description': 'MPI Fortran compiler command',\n",
       "  'model': 'Compiler',\n",
       "  'required': False},\n",
       " {'argparse': {'action': tau.arguments.ParsePackagePathAction,\n",
       "   'flags': ('--libunwind',),\n",
       "   'group': 'software package',\n",
       "   'metavar': '(<path>|<url>|download|None)'},\n",
       "  'default': 'download',\n",
       "  'description': 'path or URL to a libunwind installation or archive file',\n",
       "  'type': 'string'},\n",
       " {'argparse': {'metavar': '<target_name>'},\n",
       "  'description': 'target configuration name',\n",
       "  'type': 'string',\n",
       "  'unique': True},\n",
       " {'argparse': {'flags': ('--mpi-include-path',),\n",
       "   'group': 'Message Passing Interface (MPI)',\n",
       "   'metavar': '<path>',\n",
       "   'nargs': '+'},\n",
       "  'description': 'paths to search for MPI header files when building MPI applications',\n",
       "  'type': 'array'},\n",
       " {'argparse': {'flags': ('--cc',),\n",
       "   'group': 'compiler',\n",
       "   'metavar': '<command>'},\n",
       "  'description': 'C compiler command',\n",
       "  'model': 'Compiler',\n",
       "  'required': True},\n",
       " {'argparse': {'action': tau.arguments.ParsePackagePathAction,\n",
       "   'flags': ('--score-p',),\n",
       "   'group': 'software package',\n",
       "   'metavar': '(<path>|<url>|download|None)'},\n",
       "  'description': 'path or URL to a Score-P installation or archive file',\n",
       "  'type': 'string'},\n",
       " {'argparse': {'action': tau.arguments.ParsePackagePathAction,\n",
       "   'flags': ('--papi',),\n",
       "   'group': 'software package',\n",
       "   'metavar': '(<path>|<url>|download|None)'},\n",
       "  'description': 'path or URL to a PAPI installation or archive file',\n",
       "  'type': 'string'},\n",
       " {'argparse': {'flags': ('--upc',),\n",
       "   'group': 'Universal Parallel C',\n",
       "   'metavar': '<command>'},\n",
       "  'description': 'Universal Parallel C compiler command',\n",
       "  'model': 'Compiler',\n",
       "  'required': False},\n",
       " {'argparse': {'action': tau.arguments.ParsePackagePathAction,\n",
       "   'flags': ('--tau',),\n",
       "   'group': 'software package',\n",
       "   'metavar': '(<path>|<url>|download)'},\n",
       "  'default': 'download',\n",
       "  'description': 'path or URL to a TAU installation or archive file',\n",
       "  'type': 'string'},\n",
       " {'argparse': {'flags': ('--cxx',),\n",
       "   'group': 'compiler',\n",
       "   'metavar': '<command>'},\n",
       "  'description': 'C++ compiler command',\n",
       "  'model': 'Compiler',\n",
       "  'required': True},\n",
       " {'argparse': {'action': tau.arguments.ParsePackagePathAction,\n",
       "   'flags': ('--pdt',),\n",
       "   'group': 'software package',\n",
       "   'metavar': '(<path>|<url>|download|None)'},\n",
       "  'default': 'download',\n",
       "  'description': 'path or URL to a PDT installation or archive file',\n",
       "  'type': 'string'},\n",
       " {'argparse': {'flags': ('--fc',),\n",
       "   'group': 'compiler',\n",
       "   'metavar': '<command>'},\n",
       "  'description': 'Fortran compiler command',\n",
       "  'model': 'Compiler',\n",
       "  'required': True},\n",
       " {'argparse': {'flags': ('--mpi-cxx',),\n",
       "   'group': 'Message Passing Interface (MPI)',\n",
       "   'metavar': '<command>'},\n",
       "  'description': 'MPI C++ compiler command',\n",
       "  'model': 'Compiler',\n",
       "  'required': False},\n",
       " {'argparse': {'flags': ('--mpi-library-path',),\n",
       "   'group': 'Message Passing Interface (MPI)',\n",
       "   'metavar': '<path>',\n",
       "   'nargs': '+'},\n",
       "  'description': 'paths to search for MPI library files when building MPI applications',\n",
       "  'type': 'array'},\n",
       " {'argparse': {'choices': ['bgp', 'x86_64', 'knl', 'knc', 'bgq'],\n",
       "   'flags': ('--host-arch',),\n",
       "   'group': 'target system',\n",
       "   'metavar': '<arch>'},\n",
       "  'default': 'x86_64',\n",
       "  'description': 'host architecture',\n",
       "  'required': True,\n",
       "  'type': 'string'},\n",
       " {'argparse': {'action': tau.arguments.ParsePackagePathAction,\n",
       "   'flags': ('--binutils',),\n",
       "   'group': 'software package',\n",
       "   'metavar': '(<path>|<url>|download|None)'},\n",
       "  'default': 'download',\n",
       "  'description': 'path or URL to a GNU binutils installation or archive file',\n",
       "  'type': 'string'},\n",
       " {'argparse': {'action': tau.arguments.ParsePackagePathAction,\n",
       "   'flags': ('--cuda',),\n",
       "   'group': 'software package',\n",
       "   'metavar': '<path>'},\n",
       "  'description': 'path to NVIDIA CUDA installation',\n",
       "  'type': 'string'},\n",
       " {'argparse': {'choices': ['CNL', 'Darwin', 'CNK', 'Linux'],\n",
       "   'flags': ('--host-os',),\n",
       "   'group': 'target system',\n",
       "   'metavar': '<os>'},\n",
       "  'default': 'Darwin',\n",
       "  'description': 'host operating system',\n",
       "  'required': True,\n",
       "  'type': 'string'},\n",
       " {'argparse': {'flags': ('--mpi-cc',),\n",
       "   'group': 'Message Passing Interface (MPI)',\n",
       "   'metavar': '<command>'},\n",
       "  'description': 'MPI C compiler command',\n",
       "  'model': 'Compiler',\n",
       "  'required': False},\n",
       " {'collection': 'Project',\n",
       "  'description': 'projects using this target',\n",
       "  'via': 'targets'},\n",
       " {'argparse': {'flags': ('--mpi-libraries',),\n",
       "   'group': 'Message Passing Interface (MPI)',\n",
       "   'metavar': '<flag>',\n",
       "   'nargs': '+'},\n",
       "  'description': 'libraries to link to when building MPI applications',\n",
       "  'type': 'array'}]"
      ]
     },
     "execution_count": 93,
     "metadata": {},
     "output_type": "execute_result"
    }
   ],
   "source": [
    "target.Target.attributes.values()"
   ]
  },
  {
   "cell_type": "code",
   "execution_count": null,
   "metadata": {
    "collapsed": true
   },
   "outputs": [],
   "source": []
  }
 ],
 "metadata": {
  "kernelspec": {
   "display_name": "Python 2",
   "language": "python",
   "name": "python2"
  },
  "language_info": {
   "codemirror_mode": {
    "name": "ipython",
    "version": 2
   },
   "file_extension": ".py",
   "mimetype": "text/x-python",
   "name": "python",
   "nbconvert_exporter": "python",
   "pygments_lexer": "ipython2",
   "version": "2.7.10"
  }
 },
 "nbformat": 4,
 "nbformat_minor": 0
}
