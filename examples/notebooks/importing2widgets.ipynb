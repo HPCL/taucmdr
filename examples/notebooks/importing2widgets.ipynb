{
 "cells": [
  {
   "cell_type": "markdown",
   "metadata": {},
   "source": [
    "We first want to set env variables as is done in the tau bash script. First we determine where the tau package lives since it is usually in peoples path."
   ]
  },
  {
   "cell_type": "code",
   "execution_count": 76,
   "metadata": {
    "collapsed": true
   },
   "outputs": [],
   "source": [
    "import os,sys,subprocess"
   ]
  },
  {
   "cell_type": "code",
   "execution_count": 77,
   "metadata": {
    "collapsed": false
   },
   "outputs": [
    {
     "name": "stdout",
     "output_type": "stream",
     "text": [
      "/Users/srinathv/Repos/taucmdr/bin/tau\n",
      "/Users/srinathv/Repos/taucmdr\n",
      "/Users/srinathv/Repos/taucmdr/packages\n"
     ]
    }
   ],
   "source": [
    "tauLoc=subprocess.Popen([\"bash\",\"-c\",\"which tau\"],\n",
    "                       shell=False,stdout=subprocess.PIPE).communicate()[0].replace(\"\\n\",\"\")\n",
    "tauHome=tauLoc.replace(\"/bin/tau\",\"\")\n",
    "tauPackages=tauHome+\"/packages\"\n",
    "print tauLoc\n",
    "print tauHome\n",
    "print tauPackages"
   ]
  },
  {
   "cell_type": "markdown",
   "metadata": {},
   "source": [
    "Now we export enviroment variables of which the tau python code uses."
   ]
  },
  {
   "cell_type": "code",
   "execution_count": 78,
   "metadata": {
    "collapsed": false
   },
   "outputs": [],
   "source": [
    "os.environ[\"__TAU_HOME__\"]=tauHome\n",
    "os.environ[\"__TAU_SCRIPT__\"]=tauLoc"
   ]
  },
  {
   "cell_type": "markdown",
   "metadata": {},
   "source": [
    "Now we need to prepend that path to import all the modules."
   ]
  },
  {
   "cell_type": "code",
   "execution_count": 79,
   "metadata": {
    "collapsed": false
   },
   "outputs": [
    {
     "data": {
      "text/plain": [
       "['/Users/srinathv/Repos/taucmdr/packages',\n",
       " '/Users/srinathv/Repos/taucmdr/packages',\n",
       " '/Users/srinathv/Repos/taucmdr/packages',\n",
       " '',\n",
       " '/usr/local/lib/python',\n",
       " '/Users/srinathv/software/lib/python2.7/site-packages',\n",
       " '/Users/srinathv/Repos/taucmdr/examples/notebooks',\n",
       " '/usr/local/Cellar/python/2.7.10_2/Frameworks/Python.framework/Versions/2.7/lib/python27.zip',\n",
       " '/usr/local/Cellar/python/2.7.10_2/Frameworks/Python.framework/Versions/2.7/lib/python2.7',\n",
       " '/usr/local/Cellar/python/2.7.10_2/Frameworks/Python.framework/Versions/2.7/lib/python2.7/plat-darwin',\n",
       " '/usr/local/Cellar/python/2.7.10_2/Frameworks/Python.framework/Versions/2.7/lib/python2.7/plat-mac',\n",
       " '/usr/local/Cellar/python/2.7.10_2/Frameworks/Python.framework/Versions/2.7/lib/python2.7/plat-mac/lib-scriptpackages',\n",
       " '/usr/local/Cellar/python/2.7.10_2/Frameworks/Python.framework/Versions/2.7/lib/python2.7/lib-tk',\n",
       " '/usr/local/Cellar/python/2.7.10_2/Frameworks/Python.framework/Versions/2.7/lib/python2.7/lib-old',\n",
       " '/usr/local/Cellar/python/2.7.10_2/Frameworks/Python.framework/Versions/2.7/lib/python2.7/lib-dynload',\n",
       " '/usr/local/lib/python2.7/site-packages',\n",
       " '/usr/local/Cellar/matplotlib/1.4.3/libexec/lib/python2.7/site-packages',\n",
       " '/Library/Python/2.7/site-packages',\n",
       " '/usr/local/lib/python2.7/site-packages/IPython/extensions',\n",
       " '/Users/srinathv/.ipython']"
      ]
     },
     "execution_count": 79,
     "metadata": {},
     "output_type": "execute_result"
    }
   ],
   "source": [
    "sys.path.insert(0,tauPackages)\n",
    "sys.path"
   ]
  },
  {
   "cell_type": "code",
   "execution_count": 80,
   "metadata": {
    "collapsed": true
   },
   "outputs": [],
   "source": [
    "import tau"
   ]
  },
  {
   "cell_type": "code",
   "execution_count": null,
   "metadata": {
    "collapsed": true
   },
   "outputs": [],
   "source": []
  }
 ],
 "metadata": {
  "kernelspec": {
   "display_name": "Python 2",
   "language": "python",
   "name": "python2"
  },
  "language_info": {
   "codemirror_mode": {
    "name": "ipython",
    "version": 2
   },
   "file_extension": ".py",
   "mimetype": "text/x-python",
   "name": "python",
   "nbconvert_exporter": "python",
   "pygments_lexer": "ipython2",
   "version": "2.7.10"
  }
 },
 "nbformat": 4,
 "nbformat_minor": 0
}
