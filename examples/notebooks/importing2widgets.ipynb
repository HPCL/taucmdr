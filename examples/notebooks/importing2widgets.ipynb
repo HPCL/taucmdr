{
 "cells": [
  {
   "cell_type": "markdown",
   "metadata": {},
   "source": [
    "We first want to set env variables as is done in the tau bash script. First we determine where the tau package lives since it is usually in peoples path."
   ]
  },
  {
   "cell_type": "code",
   "execution_count": 1,
   "metadata": {
    "collapsed": true
   },
   "outputs": [],
   "source": [
    "import os,sys,subprocess"
   ]
  },
  {
   "cell_type": "code",
   "execution_count": 41,
   "metadata": {
    "collapsed": false
   },
   "outputs": [
    {
     "data": {
      "text/plain": [
       "['PATH=/usr/local/bin:/usr/local/sbin:/opt/pgi/osx86-64/12.10/bin:/Applications/git-annex.app/Contents/MacOS:/usr/local/cuda/bin:/Users/srinathv/Repos/tau2/apple/bin:/Users/srinathv/Repos/taucmdr/bin:/Users/srinathv/Library/Python/2.7/bin:/Users/srinathv/bin:/Users/srinathv/software/bin:/Users/srinathv/software/openmpi/1.6.5/intel/bin:/usr/local/bin:/usr/bin:/bin:/usr/sbin:/sbin:/opt/X11/bin:/usr/texbin:/usr/local/sbin:/opt/pgi/osx86-64/12.10/bin:/Applications/git-annex.app/Contents/MacOS:/usr/local/cuda/bin:/Users/srinathv/Repos/tau2/apple/bin:/Users/srinathv/Repos/taucmdr/bin:/Users/srinathv/Library/Python/2.7/bin:/Users/srinathv/bin:/Users/srinathv/software/bin:/Users/srinathv/software/openmpi/1.6.5/intel/bin',\n",
       " 'PWD=/Users/srinathv/Repos/taucmdr/examples/notebooks']"
      ]
     },
     "execution_count": 41,
     "metadata": {},
     "output_type": "execute_result"
    }
   ],
   "source": [
    "v1= subprocess.Popen([\"bash\",\"-c\",\n",
    "                         \"trap 'env' exit; source \\\"$1\\\" > /dev/null 2>&1\", \"_\", \n",
    "                         \"tau -h\" ],\n",
    "                       shell=False, stdout=subprocess.PIPE).communicate()[0]\n",
    "[x for x in v1.split(\"\\n\") if \"tau\" in x]"
   ]
  },
  {
   "cell_type": "code",
   "execution_count": 65,
   "metadata": {
    "collapsed": false
   },
   "outputs": [
    {
     "name": "stdout",
     "output_type": "stream",
     "text": [
      "/Users/srinathv/Repos/taucmdr/bin/tau\n",
      "/Users/srinathv/Repos/taucmdr/\n"
     ]
    }
   ],
   "source": [
    "tauLoc=subprocess.Popen([\"bash\",\"-c\",\"which tau\"],\n",
    "                       shell=False,stdout=subprocess.PIPE).communicate()[0].replace(\"\\n\",\"\")\n",
    "tauHome=tauLoc.replace(\"bin/tau\",\"\")\n",
    "print tauLoc\n",
    "print tauHome"
   ]
  },
  {
   "cell_type": "markdown",
   "metadata": {},
   "source": [
    "Now we export enviroment variables of which the tau python code uses."
   ]
  },
  {
   "cell_type": "code",
   "execution_count": 37,
   "metadata": {
    "collapsed": false
   },
   "outputs": [],
   "source": [
    "os.environ[\"__TAU_HOME__\"]=tauHome\n"
   ]
  },
  {
   "cell_type": "code",
   "execution_count": 40,
   "metadata": {
    "collapsed": true
   },
   "outputs": [],
   "source": [
    "del os.environ[\"__TAU_HOME__\"]"
   ]
  },
  {
   "cell_type": "code",
   "execution_count": null,
   "metadata": {
    "collapsed": true
   },
   "outputs": [],
   "source": []
  }
 ],
 "metadata": {
  "kernelspec": {
   "display_name": "Python 2",
   "language": "python",
   "name": "python2"
  },
  "language_info": {
   "codemirror_mode": {
    "name": "ipython",
    "version": 2
   },
   "file_extension": ".py",
   "mimetype": "text/x-python",
   "name": "python",
   "nbconvert_exporter": "python",
   "pygments_lexer": "ipython2",
   "version": "2.7.10"
  }
 },
 "nbformat": 4,
 "nbformat_minor": 0
}
